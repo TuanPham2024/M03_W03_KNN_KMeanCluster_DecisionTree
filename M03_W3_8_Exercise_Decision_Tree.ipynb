{
  "nbformat": 4,
  "nbformat_minor": 0,
  "metadata": {
    "colab": {
      "provenance": [],
      "authorship_tag": "ABX9TyMf5VQFtK0WchedZs3WBhdx"
    },
    "kernelspec": {
      "name": "python3",
      "display_name": "Python 3"
    },
    "language_info": {
      "name": "python"
    }
  },
  "cells": [
    {
      "cell_type": "markdown",
      "source": [
        "# ***Decision Tree***"
      ],
      "metadata": {
        "id": "-1ystb1bUHeb"
      }
    },
    {
      "cell_type": "markdown",
      "source": [
        "D3 là một thuật toán xây dựng Cây Quyết Định (Decision Tree) được phát triển bởi Ross Quinlan vào những năm 1980. Thuật toán này dựa trên khái niệm Entropy và Information Gain để chọn thuộc tính tốt nhất cho việc phân chia dữ liệu ở mỗi bước."
      ],
      "metadata": {
        "id": "xZUsyeLVUprX"
      }
    },
    {
      "cell_type": "code",
      "execution_count": 3,
      "metadata": {
        "colab": {
          "base_uri": "https://localhost:8080/"
        },
        "id": "I5MqAX4qS5Aa",
        "outputId": "2b837fbc-b341-4789-f439-e37e71e1965e"
      },
      "outputs": [
        {
          "output_type": "stream",
          "name": "stdout",
          "text": [
            "1.0\n"
          ]
        }
      ],
      "source": [
        "from sklearn import datasets\n",
        "from sklearn.model_selection import train_test_split\n",
        "from sklearn.metrics import accuracy_score\n",
        "from sklearn.tree import DecisionTreeClassifier\n",
        "\n",
        "# Load the diabetes dataset -Paragraph C :\n",
        "iris_X , iris_y = datasets.load_iris(return_X_y=True) # From question 7\n",
        "X_train , X_test , y_train , y_test = train_test_split(\n",
        "        iris_X , iris_y ,\n",
        "        test_size =0.2 , # Split train : test = 8:2\n",
        "        random_state =42)\n",
        "\n",
        "\n",
        "# Define model - Paragraph B :\n",
        "dt_classifier = DecisionTreeClassifier()\n",
        "\n",
        "# Train - Paragraph A :\n",
        "dt_classifier.fit( X_train , y_train )\n",
        "\n",
        "# Preidct and evaluate - Paragraph D :\n",
        "y_pred = dt_classifier.predict ( X_test )\n",
        "print(accuracy_score(y_test , y_pred))"
      ]
    },
    {
      "cell_type": "markdown",
      "source": [
        "# ***Decision Tree for Regression***"
      ],
      "metadata": {
        "id": "uG_Fc48rd5A6"
      }
    },
    {
      "cell_type": "markdown",
      "source": [
        "![image.png](data:image/png;base64,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)"
      ],
      "metadata": {
        "id": "ZecZSKJhd9FX"
      }
    },
    {
      "cell_type": "code",
      "source": [
        "from sklearn.datasets import fetch_openml\n",
        "from sklearn.model_selection import train_test_split\n",
        "from sklearn.metrics import mean_squared_error\n",
        "from sklearn.tree import DecisionTreeRegressor\n",
        "\n",
        "# Load dataset Paragraph C:\n",
        "machine_cpu = fetch_openml(name = 'machine_cpu')\n",
        "machine_data = machine_cpu.data\n",
        "machine_labels = machine_cpu.target\n",
        "\n",
        "X_train , X_test , y_train , y_test = train_test_split(\n",
        "        machine_data , machine_labels ,\n",
        "        test_size =0.2 , # Split train : test = 8:2\n",
        "        random_state =42)\n",
        "\n",
        "# Define model Paragraph B:\n",
        "tree_reg = DecisionTreeRegressor ()\n",
        "\n",
        "# Train Paragraph A:\n",
        "tree_reg.fit(X_train, y_train)\n",
        "\n",
        "# Preidct and evaluate - Paragraph D:\n",
        "y_pred = tree_reg.predict(X_test )\n",
        "print(\"mean_squared_error\", mean_squared_error(y_test , y_pred))"
      ],
      "metadata": {
        "colab": {
          "base_uri": "https://localhost:8080/"
        },
        "id": "wEVFfxLnd-DB",
        "outputId": "8fd8120b-2dca-4ac6-a829-129438a221dd"
      },
      "execution_count": 4,
      "outputs": [
        {
          "output_type": "stream",
          "name": "stderr",
          "text": [
            "/usr/local/lib/python3.10/dist-packages/sklearn/datasets/_openml.py:311: UserWarning: Multiple active versions of the dataset matching the name machine_cpu exist. Versions may be fundamentally different, returning version 1.\n",
            "  warn(\n",
            "/usr/local/lib/python3.10/dist-packages/sklearn/datasets/_openml.py:1022: FutureWarning: The default value of `parser` will change from `'liac-arff'` to `'auto'` in 1.4. You can set `parser='auto'` to silence this warning. Therefore, an `ImportError` will be raised from 1.4 if the dataset is dense and pandas is not installed. Note that the pandas parser may return different data types. See the Notes Section in fetch_openml's API doc for details.\n",
            "  warn(\n"
          ]
        },
        {
          "output_type": "stream",
          "name": "stdout",
          "text": [
            "mean_squared_error 8863.270502645502\n"
          ]
        }
      ]
    }
  ]
}